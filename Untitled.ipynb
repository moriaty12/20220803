{
 "cells": [
  {
   "cell_type": "code",
   "execution_count": 199,
   "id": "e6df80db",
   "metadata": {},
   "outputs": [],
   "source": [
    "import pandas as pd"
   ]
  },
  {
   "cell_type": "code",
   "execution_count": 200,
   "id": "e8009112",
   "metadata": {},
   "outputs": [],
   "source": [
    "import requests\n",
    "import json"
   ]
  },
  {
   "cell_type": "code",
   "execution_count": 201,
   "id": "4b7106a6",
   "metadata": {},
   "outputs": [],
   "source": [
    "url_kt=\"https://m.stock.naver.com/api/index/FUT/price?pageSize=10&page=2\"\n",
    "#Request URL: https://m.stock.naver.com/api/index/FUT/price?pageSize=10&page=2\n",
    "\n",
    "\n"
   ]
  },
  {
   "cell_type": "code",
   "execution_count": 202,
   "id": "950b5cb4",
   "metadata": {},
   "outputs": [
    {
     "data": {
      "text/plain": [
       "<Response [200]>"
      ]
     },
     "execution_count": 202,
     "metadata": {},
     "output_type": "execute_result"
    }
   ],
   "source": [
    "response_kospi_200=requests.get(url_kt)\n",
    "response_kospi_200"
   ]
  },
  {
   "cell_type": "code",
   "execution_count": 203,
   "id": "118febf5",
   "metadata": {},
   "outputs": [
    {
     "data": {
      "text/plain": [
       "'[{\"localTradedAt\":\"2022-07-20\",\"closePrice\":\"316.50\",\"compareToPreviousClosePrice\":\"2.80\",\"compareToPreviousPrice\":{\"code\":\"2\",\"text\":\"상승\",\"name\":\"RISING\"},\"fluctuationsRatio\":\"0.89\",\"openPrice\":\"318.'"
      ]
     },
     "execution_count": 203,
     "metadata": {},
     "output_type": "execute_result"
    }
   ],
   "source": [
    "response_kospi_200.text[:200]"
   ]
  },
  {
   "cell_type": "code",
   "execution_count": 204,
   "id": "90d9e88b",
   "metadata": {},
   "outputs": [],
   "source": [
    "data_kospi_200=response_kospi_200.json()"
   ]
  },
  {
   "cell_type": "code",
   "execution_count": 205,
   "id": "fda0d848",
   "metadata": {},
   "outputs": [
    {
     "data": {
      "text/plain": [
       "list"
      ]
     },
     "execution_count": 205,
     "metadata": {},
     "output_type": "execute_result"
    }
   ],
   "source": [
    "type(data_kospi_200)"
   ]
  },
  {
   "cell_type": "code",
   "execution_count": 206,
   "id": "3387d74d",
   "metadata": {},
   "outputs": [
    {
     "data": {
      "text/plain": [
       "(list,\n",
       " [{'localTradedAt': '2022-07-20',\n",
       "   'closePrice': '316.50',\n",
       "   'compareToPreviousClosePrice': '2.80',\n",
       "   'compareToPreviousPrice': {'code': '2', 'text': '상승', 'name': 'RISING'},\n",
       "   'fluctuationsRatio': '0.89',\n",
       "   'openPrice': '318.90',\n",
       "   'highPrice': '319.95',\n",
       "   'lowPrice': '315.65'}])"
      ]
     },
     "execution_count": 206,
     "metadata": {},
     "output_type": "execute_result"
    }
   ],
   "source": [
    "type(data_kospi_200),data_kospi_200[:1]"
   ]
  },
  {
   "cell_type": "code",
   "execution_count": 207,
   "id": "49a408c2",
   "metadata": {},
   "outputs": [
    {
     "data": {
      "text/html": [
       "<div>\n",
       "<style scoped>\n",
       "    .dataframe tbody tr th:only-of-type {\n",
       "        vertical-align: middle;\n",
       "    }\n",
       "\n",
       "    .dataframe tbody tr th {\n",
       "        vertical-align: top;\n",
       "    }\n",
       "\n",
       "    .dataframe thead th {\n",
       "        text-align: right;\n",
       "    }\n",
       "</style>\n",
       "<table border=\"1\" class=\"dataframe\">\n",
       "  <thead>\n",
       "    <tr style=\"text-align: right;\">\n",
       "      <th></th>\n",
       "      <th>localTradedAt</th>\n",
       "      <th>closePrice</th>\n",
       "      <th>compareToPreviousClosePrice</th>\n",
       "      <th>compareToPreviousPrice</th>\n",
       "      <th>fluctuationsRatio</th>\n",
       "      <th>openPrice</th>\n",
       "      <th>highPrice</th>\n",
       "      <th>lowPrice</th>\n",
       "    </tr>\n",
       "  </thead>\n",
       "  <tbody>\n",
       "    <tr>\n",
       "      <th>0</th>\n",
       "      <td>2022-07-20</td>\n",
       "      <td>316.50</td>\n",
       "      <td>2.80</td>\n",
       "      <td>{'code': '2', 'text': '상승', 'name': 'RISING'}</td>\n",
       "      <td>0.89</td>\n",
       "      <td>318.90</td>\n",
       "      <td>319.95</td>\n",
       "      <td>315.65</td>\n",
       "    </tr>\n",
       "    <tr>\n",
       "      <th>1</th>\n",
       "      <td>2022-07-19</td>\n",
       "      <td>313.70</td>\n",
       "      <td>-2.30</td>\n",
       "      <td>{'code': '5', 'text': '하락', 'name': 'FALLING'}</td>\n",
       "      <td>-0.73</td>\n",
       "      <td>314.05</td>\n",
       "      <td>314.25</td>\n",
       "      <td>312.10</td>\n",
       "    </tr>\n",
       "    <tr>\n",
       "      <th>2</th>\n",
       "      <td>2022-07-18</td>\n",
       "      <td>316.00</td>\n",
       "      <td>8.00</td>\n",
       "      <td>{'code': '2', 'text': '상승', 'name': 'RISING'}</td>\n",
       "      <td>2.60</td>\n",
       "      <td>311.45</td>\n",
       "      <td>316.00</td>\n",
       "      <td>310.85</td>\n",
       "    </tr>\n",
       "    <tr>\n",
       "      <th>3</th>\n",
       "      <td>2022-07-15</td>\n",
       "      <td>308.00</td>\n",
       "      <td>1.40</td>\n",
       "      <td>{'code': '2', 'text': '상승', 'name': 'RISING'}</td>\n",
       "      <td>0.46</td>\n",
       "      <td>308.10</td>\n",
       "      <td>308.80</td>\n",
       "      <td>302.50</td>\n",
       "    </tr>\n",
       "    <tr>\n",
       "      <th>4</th>\n",
       "      <td>2022-07-14</td>\n",
       "      <td>306.60</td>\n",
       "      <td>-1.30</td>\n",
       "      <td>{'code': '5', 'text': '하락', 'name': 'FALLING'}</td>\n",
       "      <td>-0.42</td>\n",
       "      <td>304.95</td>\n",
       "      <td>308.65</td>\n",
       "      <td>304.25</td>\n",
       "    </tr>\n",
       "    <tr>\n",
       "      <th>5</th>\n",
       "      <td>2022-07-13</td>\n",
       "      <td>307.90</td>\n",
       "      <td>2.35</td>\n",
       "      <td>{'code': '2', 'text': '상승', 'name': 'RISING'}</td>\n",
       "      <td>0.77</td>\n",
       "      <td>306.70</td>\n",
       "      <td>309.55</td>\n",
       "      <td>305.80</td>\n",
       "    </tr>\n",
       "    <tr>\n",
       "      <th>6</th>\n",
       "      <td>2022-07-12</td>\n",
       "      <td>305.55</td>\n",
       "      <td>-3.55</td>\n",
       "      <td>{'code': '5', 'text': '하락', 'name': 'FALLING'}</td>\n",
       "      <td>-1.15</td>\n",
       "      <td>308.10</td>\n",
       "      <td>308.40</td>\n",
       "      <td>304.15</td>\n",
       "    </tr>\n",
       "    <tr>\n",
       "      <th>7</th>\n",
       "      <td>2022-07-11</td>\n",
       "      <td>309.10</td>\n",
       "      <td>-1.70</td>\n",
       "      <td>{'code': '5', 'text': '하락', 'name': 'FALLING'}</td>\n",
       "      <td>-0.55</td>\n",
       "      <td>311.95</td>\n",
       "      <td>312.60</td>\n",
       "      <td>308.50</td>\n",
       "    </tr>\n",
       "    <tr>\n",
       "      <th>8</th>\n",
       "      <td>2022-07-08</td>\n",
       "      <td>310.80</td>\n",
       "      <td>1.85</td>\n",
       "      <td>{'code': '2', 'text': '상승', 'name': 'RISING'}</td>\n",
       "      <td>0.60</td>\n",
       "      <td>311.00</td>\n",
       "      <td>313.70</td>\n",
       "      <td>310.30</td>\n",
       "    </tr>\n",
       "    <tr>\n",
       "      <th>9</th>\n",
       "      <td>2022-07-07</td>\n",
       "      <td>308.95</td>\n",
       "      <td>5.65</td>\n",
       "      <td>{'code': '2', 'text': '상승', 'name': 'RISING'}</td>\n",
       "      <td>1.86</td>\n",
       "      <td>305.30</td>\n",
       "      <td>310.80</td>\n",
       "      <td>304.50</td>\n",
       "    </tr>\n",
       "  </tbody>\n",
       "</table>\n",
       "</div>"
      ],
      "text/plain": [
       "  localTradedAt closePrice compareToPreviousClosePrice  \\\n",
       "0    2022-07-20     316.50                        2.80   \n",
       "1    2022-07-19     313.70                       -2.30   \n",
       "2    2022-07-18     316.00                        8.00   \n",
       "3    2022-07-15     308.00                        1.40   \n",
       "4    2022-07-14     306.60                       -1.30   \n",
       "5    2022-07-13     307.90                        2.35   \n",
       "6    2022-07-12     305.55                       -3.55   \n",
       "7    2022-07-11     309.10                       -1.70   \n",
       "8    2022-07-08     310.80                        1.85   \n",
       "9    2022-07-07     308.95                        5.65   \n",
       "\n",
       "                           compareToPreviousPrice fluctuationsRatio openPrice  \\\n",
       "0   {'code': '2', 'text': '상승', 'name': 'RISING'}              0.89    318.90   \n",
       "1  {'code': '5', 'text': '하락', 'name': 'FALLING'}             -0.73    314.05   \n",
       "2   {'code': '2', 'text': '상승', 'name': 'RISING'}              2.60    311.45   \n",
       "3   {'code': '2', 'text': '상승', 'name': 'RISING'}              0.46    308.10   \n",
       "4  {'code': '5', 'text': '하락', 'name': 'FALLING'}             -0.42    304.95   \n",
       "5   {'code': '2', 'text': '상승', 'name': 'RISING'}              0.77    306.70   \n",
       "6  {'code': '5', 'text': '하락', 'name': 'FALLING'}             -1.15    308.10   \n",
       "7  {'code': '5', 'text': '하락', 'name': 'FALLING'}             -0.55    311.95   \n",
       "8   {'code': '2', 'text': '상승', 'name': 'RISING'}              0.60    311.00   \n",
       "9   {'code': '2', 'text': '상승', 'name': 'RISING'}              1.86    305.30   \n",
       "\n",
       "  highPrice lowPrice  \n",
       "0    319.95   315.65  \n",
       "1    314.25   312.10  \n",
       "2    316.00   310.85  \n",
       "3    308.80   302.50  \n",
       "4    308.65   304.25  \n",
       "5    309.55   305.80  \n",
       "6    308.40   304.15  \n",
       "7    312.60   308.50  \n",
       "8    313.70   310.30  \n",
       "9    310.80   304.50  "
      ]
     },
     "execution_count": 207,
     "metadata": {},
     "output_type": "execute_result"
    }
   ],
   "source": [
    "pd.DataFrame(data_kospi_200)"
   ]
  },
  {
   "cell_type": "code",
   "execution_count": 208,
   "id": "cffefd6d",
   "metadata": {},
   "outputs": [
    {
     "data": {
      "text/html": [
       "<div>\n",
       "<style scoped>\n",
       "    .dataframe tbody tr th:only-of-type {\n",
       "        vertical-align: middle;\n",
       "    }\n",
       "\n",
       "    .dataframe tbody tr th {\n",
       "        vertical-align: top;\n",
       "    }\n",
       "\n",
       "    .dataframe thead th {\n",
       "        text-align: right;\n",
       "    }\n",
       "</style>\n",
       "<table border=\"1\" class=\"dataframe\">\n",
       "  <thead>\n",
       "    <tr style=\"text-align: right;\">\n",
       "      <th></th>\n",
       "      <th>localTradedAt</th>\n",
       "      <th>closePrice</th>\n",
       "    </tr>\n",
       "  </thead>\n",
       "  <tbody>\n",
       "    <tr>\n",
       "      <th>0</th>\n",
       "      <td>2022-07-20</td>\n",
       "      <td>316.50</td>\n",
       "    </tr>\n",
       "    <tr>\n",
       "      <th>1</th>\n",
       "      <td>2022-07-19</td>\n",
       "      <td>313.70</td>\n",
       "    </tr>\n",
       "    <tr>\n",
       "      <th>2</th>\n",
       "      <td>2022-07-18</td>\n",
       "      <td>316.00</td>\n",
       "    </tr>\n",
       "    <tr>\n",
       "      <th>3</th>\n",
       "      <td>2022-07-15</td>\n",
       "      <td>308.00</td>\n",
       "    </tr>\n",
       "    <tr>\n",
       "      <th>4</th>\n",
       "      <td>2022-07-14</td>\n",
       "      <td>306.60</td>\n",
       "    </tr>\n",
       "    <tr>\n",
       "      <th>5</th>\n",
       "      <td>2022-07-13</td>\n",
       "      <td>307.90</td>\n",
       "    </tr>\n",
       "    <tr>\n",
       "      <th>6</th>\n",
       "      <td>2022-07-12</td>\n",
       "      <td>305.55</td>\n",
       "    </tr>\n",
       "    <tr>\n",
       "      <th>7</th>\n",
       "      <td>2022-07-11</td>\n",
       "      <td>309.10</td>\n",
       "    </tr>\n",
       "    <tr>\n",
       "      <th>8</th>\n",
       "      <td>2022-07-08</td>\n",
       "      <td>310.80</td>\n",
       "    </tr>\n",
       "    <tr>\n",
       "      <th>9</th>\n",
       "      <td>2022-07-07</td>\n",
       "      <td>308.95</td>\n",
       "    </tr>\n",
       "  </tbody>\n",
       "</table>\n",
       "</div>"
      ],
      "text/plain": [
       "  localTradedAt closePrice\n",
       "0    2022-07-20     316.50\n",
       "1    2022-07-19     313.70\n",
       "2    2022-07-18     316.00\n",
       "3    2022-07-15     308.00\n",
       "4    2022-07-14     306.60\n",
       "5    2022-07-13     307.90\n",
       "6    2022-07-12     305.55\n",
       "7    2022-07-11     309.10\n",
       "8    2022-07-08     310.80\n",
       "9    2022-07-07     308.95"
      ]
     },
     "execution_count": 208,
     "metadata": {},
     "output_type": "execute_result"
    }
   ],
   "source": [
    "df_kospi_200=pd.DataFrame(data_kospi_200)[[\"localTradedAt\",\"closePrice\"]]\n",
    "df_kospi_200"
   ]
  },
  {
   "cell_type": "code",
   "execution_count": 209,
   "id": "950d37ea",
   "metadata": {},
   "outputs": [],
   "source": [
    "def stock_price(pagesize,page):\n",
    "    url=f\"https://m.stock.naver.com/api/index/FUT/price?pageSize={pagesize}&page={page}\"\n",
    "    response=requests.get(url)\n",
    "    return pd.DataFrame(response.json())[[\"localTradedAt\",\"closePrice\"]]\n",
    "    \n",
    "    "
   ]
  },
  {
   "cell_type": "code",
   "execution_count": 210,
   "id": "7d8400a9",
   "metadata": {},
   "outputs": [
    {
     "data": {
      "text/html": [
       "<div>\n",
       "<style scoped>\n",
       "    .dataframe tbody tr th:only-of-type {\n",
       "        vertical-align: middle;\n",
       "    }\n",
       "\n",
       "    .dataframe tbody tr th {\n",
       "        vertical-align: top;\n",
       "    }\n",
       "\n",
       "    .dataframe thead th {\n",
       "        text-align: right;\n",
       "    }\n",
       "</style>\n",
       "<table border=\"1\" class=\"dataframe\">\n",
       "  <thead>\n",
       "    <tr style=\"text-align: right;\">\n",
       "      <th></th>\n",
       "      <th>localTradedAt</th>\n",
       "      <th>closePrice</th>\n",
       "    </tr>\n",
       "  </thead>\n",
       "  <tbody>\n",
       "    <tr>\n",
       "      <th>8</th>\n",
       "      <td>2022-06-10</td>\n",
       "      <td>341.10</td>\n",
       "    </tr>\n",
       "    <tr>\n",
       "      <th>9</th>\n",
       "      <td>2022-06-09</td>\n",
       "      <td>345.00</td>\n",
       "    </tr>\n",
       "  </tbody>\n",
       "</table>\n",
       "</div>"
      ],
      "text/plain": [
       "  localTradedAt closePrice\n",
       "8    2022-06-10     341.10\n",
       "9    2022-06-09     345.00"
      ]
     },
     "execution_count": 210,
     "metadata": {},
     "output_type": "execute_result"
    }
   ],
   "source": [
    "stock_price(30,2).tail(2)"
   ]
  },
  {
   "cell_type": "code",
   "execution_count": 211,
   "id": "82b8c7f9",
   "metadata": {},
   "outputs": [],
   "source": [
    "#코스피 코스닥 함수 만들기\n",
    "#Request URL: https://m.stock.naver.com/api/index/KOSPI/price?pageSize=10&page=2\n",
    "\n",
    "def st_price(pagesize,page, code=\"KOSPI\"):\n",
    "    \"\"\" 이 함수는 블라블라\n",
    "    \n",
    "    변수값\n",
    "    --------\n",
    "    변수 : 형태: 뭐니?\n",
    "    \n",
    "    return\n",
    "    ---\n",
    "    type 형태 : 뭐뭐 나오니\n",
    "    \"\"\"\n",
    "    url=f\"https://m.stock.naver.com/api/index/{code}/price?pageSize={pagesize}&page={page}\"\n",
    "    response=requests.get(url)\n",
    "    data=response.json()\n",
    "    return pd.DataFrame(data)[[\"localTradedAt\",\"closePrice\"]]\n",
    "\n"
   ]
  },
  {
   "cell_type": "code",
   "execution_count": 212,
   "id": "9cc0ac14",
   "metadata": {},
   "outputs": [
    {
     "name": "stdout",
     "output_type": "stream",
     "text": [
      "a\n"
     ]
    }
   ],
   "source": [
    "a=\"a\"\n",
    "print(f\"{a}\")"
   ]
  },
  {
   "cell_type": "code",
   "execution_count": 213,
   "id": "7ea953ec",
   "metadata": {},
   "outputs": [],
   "source": [
    "kospi=st_price(60,1,\"KOSPI\")"
   ]
  },
  {
   "cell_type": "code",
   "execution_count": 214,
   "id": "b05b5595",
   "metadata": {},
   "outputs": [],
   "source": [
    "kodaq=st_price(60,1,\"KOSDAQ\")"
   ]
  },
  {
   "cell_type": "code",
   "execution_count": 215,
   "id": "91f0b093",
   "metadata": {},
   "outputs": [
    {
     "name": "stdout",
     "output_type": "stream",
     "text": [
      "Help on function st_price in module __main__:\n",
      "\n",
      "st_price(pagesize, page, code='KOSPI')\n",
      "    이 함수는 블라블라\n",
      "    \n",
      "    변수값\n",
      "    --------\n",
      "    변수 : 형태: 뭐니?\n",
      "    \n",
      "    return\n",
      "    ---\n",
      "    type 형태 : 뭐뭐 나오니\n",
      "\n"
     ]
    }
   ],
   "source": [
    "help(st_price)"
   ]
  },
  {
   "cell_type": "code",
   "execution_count": 216,
   "id": "41cf7844",
   "metadata": {},
   "outputs": [],
   "source": [
    "#나스닥 해보자 나스닥이랑 코스피랑 관계 있니?"
   ]
  },
  {
   "cell_type": "code",
   "execution_count": 217,
   "id": "0f0dce39",
   "metadata": {},
   "outputs": [],
   "source": [
    "\n",
    "#Request URL: https://api.stock.naver.com/index/.IXIC/price?page=3&pageSize=10\n",
    "\n"
   ]
  },
  {
   "cell_type": "code",
   "execution_count": 218,
   "id": "112c96d3",
   "metadata": {},
   "outputs": [],
   "source": [
    "def nas_price(pagesize,page):\n",
    "    url=f\"https://api.stock.naver.com/index/.IXIC/price?page={page}&pageSize={pagesize}\"\n",
    "    response=requests.get(url)\n",
    "    data=response.json()\n",
    "    return pd.DataFrame(data)[[\"localTradedAt\",\"closePrice\"]]"
   ]
  },
  {
   "cell_type": "code",
   "execution_count": 219,
   "id": "f58791c1",
   "metadata": {},
   "outputs": [
    {
     "data": {
      "text/html": [
       "<div>\n",
       "<style scoped>\n",
       "    .dataframe tbody tr th:only-of-type {\n",
       "        vertical-align: middle;\n",
       "    }\n",
       "\n",
       "    .dataframe tbody tr th {\n",
       "        vertical-align: top;\n",
       "    }\n",
       "\n",
       "    .dataframe thead th {\n",
       "        text-align: right;\n",
       "    }\n",
       "</style>\n",
       "<table border=\"1\" class=\"dataframe\">\n",
       "  <thead>\n",
       "    <tr style=\"text-align: right;\">\n",
       "      <th></th>\n",
       "      <th>localTradedAt</th>\n",
       "      <th>closePrice</th>\n",
       "    </tr>\n",
       "  </thead>\n",
       "  <tbody>\n",
       "    <tr>\n",
       "      <th>0</th>\n",
       "      <td>2022-08-02T17:15:59-04:00</td>\n",
       "      <td>12,348.76</td>\n",
       "    </tr>\n",
       "    <tr>\n",
       "      <th>1</th>\n",
       "      <td>2022-08-01T17:15:59-04:00</td>\n",
       "      <td>12,368.98</td>\n",
       "    </tr>\n",
       "    <tr>\n",
       "      <th>2</th>\n",
       "      <td>2022-07-29T17:15:59-04:00</td>\n",
       "      <td>12,390.69</td>\n",
       "    </tr>\n",
       "    <tr>\n",
       "      <th>3</th>\n",
       "      <td>2022-07-28T17:15:59-04:00</td>\n",
       "      <td>12,162.59</td>\n",
       "    </tr>\n",
       "    <tr>\n",
       "      <th>4</th>\n",
       "      <td>2022-07-27T17:15:59-04:00</td>\n",
       "      <td>12,032.42</td>\n",
       "    </tr>\n",
       "    <tr>\n",
       "      <th>5</th>\n",
       "      <td>2022-07-26T17:15:59-04:00</td>\n",
       "      <td>11,562.58</td>\n",
       "    </tr>\n",
       "    <tr>\n",
       "      <th>6</th>\n",
       "      <td>2022-07-25T17:15:59-04:00</td>\n",
       "      <td>11,782.67</td>\n",
       "    </tr>\n",
       "    <tr>\n",
       "      <th>7</th>\n",
       "      <td>2022-07-22T17:15:59-04:00</td>\n",
       "      <td>11,834.11</td>\n",
       "    </tr>\n",
       "    <tr>\n",
       "      <th>8</th>\n",
       "      <td>2022-07-21T17:15:59-04:00</td>\n",
       "      <td>12,059.61</td>\n",
       "    </tr>\n",
       "    <tr>\n",
       "      <th>9</th>\n",
       "      <td>2022-07-20T17:15:59-04:00</td>\n",
       "      <td>11,897.65</td>\n",
       "    </tr>\n",
       "    <tr>\n",
       "      <th>10</th>\n",
       "      <td>2022-07-19T17:15:59-04:00</td>\n",
       "      <td>11,713.15</td>\n",
       "    </tr>\n",
       "    <tr>\n",
       "      <th>11</th>\n",
       "      <td>2022-07-18T17:15:59-04:00</td>\n",
       "      <td>11,360.05</td>\n",
       "    </tr>\n",
       "    <tr>\n",
       "      <th>12</th>\n",
       "      <td>2022-07-15T17:15:59-04:00</td>\n",
       "      <td>11,452.42</td>\n",
       "    </tr>\n",
       "    <tr>\n",
       "      <th>13</th>\n",
       "      <td>2022-07-14T17:15:59-04:00</td>\n",
       "      <td>11,251.19</td>\n",
       "    </tr>\n",
       "    <tr>\n",
       "      <th>14</th>\n",
       "      <td>2022-07-13T17:15:59-04:00</td>\n",
       "      <td>11,247.58</td>\n",
       "    </tr>\n",
       "    <tr>\n",
       "      <th>15</th>\n",
       "      <td>2022-07-12T17:15:59-04:00</td>\n",
       "      <td>11,264.73</td>\n",
       "    </tr>\n",
       "    <tr>\n",
       "      <th>16</th>\n",
       "      <td>2022-07-11T17:15:59-04:00</td>\n",
       "      <td>11,372.60</td>\n",
       "    </tr>\n",
       "    <tr>\n",
       "      <th>17</th>\n",
       "      <td>2022-07-08T17:15:59-04:00</td>\n",
       "      <td>11,635.31</td>\n",
       "    </tr>\n",
       "    <tr>\n",
       "      <th>18</th>\n",
       "      <td>2022-07-07T17:15:59-04:00</td>\n",
       "      <td>11,621.35</td>\n",
       "    </tr>\n",
       "    <tr>\n",
       "      <th>19</th>\n",
       "      <td>2022-07-06T17:15:59-04:00</td>\n",
       "      <td>11,361.85</td>\n",
       "    </tr>\n",
       "    <tr>\n",
       "      <th>20</th>\n",
       "      <td>2022-07-05T17:15:59-04:00</td>\n",
       "      <td>11,322.24</td>\n",
       "    </tr>\n",
       "    <tr>\n",
       "      <th>21</th>\n",
       "      <td>2022-07-01T17:15:59-04:00</td>\n",
       "      <td>11,127.85</td>\n",
       "    </tr>\n",
       "    <tr>\n",
       "      <th>22</th>\n",
       "      <td>2022-06-30T17:15:59-04:00</td>\n",
       "      <td>11,028.74</td>\n",
       "    </tr>\n",
       "    <tr>\n",
       "      <th>23</th>\n",
       "      <td>2022-06-29T17:15:59-04:00</td>\n",
       "      <td>11,177.89</td>\n",
       "    </tr>\n",
       "    <tr>\n",
       "      <th>24</th>\n",
       "      <td>2022-06-28T17:15:59-04:00</td>\n",
       "      <td>11,181.54</td>\n",
       "    </tr>\n",
       "    <tr>\n",
       "      <th>25</th>\n",
       "      <td>2022-06-27T17:28:29-04:00</td>\n",
       "      <td>11,524.55</td>\n",
       "    </tr>\n",
       "    <tr>\n",
       "      <th>26</th>\n",
       "      <td>2022-06-24T17:15:59-04:00</td>\n",
       "      <td>11,607.62</td>\n",
       "    </tr>\n",
       "    <tr>\n",
       "      <th>27</th>\n",
       "      <td>2022-06-23T17:15:59-04:00</td>\n",
       "      <td>11,232.19</td>\n",
       "    </tr>\n",
       "    <tr>\n",
       "      <th>28</th>\n",
       "      <td>2022-06-22T17:15:59-04:00</td>\n",
       "      <td>11,053.08</td>\n",
       "    </tr>\n",
       "    <tr>\n",
       "      <th>29</th>\n",
       "      <td>2022-06-21T17:15:59-04:00</td>\n",
       "      <td>11,069.30</td>\n",
       "    </tr>\n",
       "    <tr>\n",
       "      <th>30</th>\n",
       "      <td>2022-06-17T17:15:59-04:00</td>\n",
       "      <td>10,798.35</td>\n",
       "    </tr>\n",
       "    <tr>\n",
       "      <th>31</th>\n",
       "      <td>2022-06-16T17:15:59-04:00</td>\n",
       "      <td>10,646.10</td>\n",
       "    </tr>\n",
       "    <tr>\n",
       "      <th>32</th>\n",
       "      <td>2022-06-15T17:15:59-04:00</td>\n",
       "      <td>11,099.16</td>\n",
       "    </tr>\n",
       "    <tr>\n",
       "      <th>33</th>\n",
       "      <td>2022-06-14T17:15:59-04:00</td>\n",
       "      <td>10,828.35</td>\n",
       "    </tr>\n",
       "    <tr>\n",
       "      <th>34</th>\n",
       "      <td>2022-06-13T17:15:59-04:00</td>\n",
       "      <td>10,809.23</td>\n",
       "    </tr>\n",
       "    <tr>\n",
       "      <th>35</th>\n",
       "      <td>2022-06-10T17:15:59-04:00</td>\n",
       "      <td>11,340.02</td>\n",
       "    </tr>\n",
       "    <tr>\n",
       "      <th>36</th>\n",
       "      <td>2022-06-09T17:15:59-04:00</td>\n",
       "      <td>11,754.23</td>\n",
       "    </tr>\n",
       "    <tr>\n",
       "      <th>37</th>\n",
       "      <td>2022-06-08T17:15:59-04:00</td>\n",
       "      <td>12,086.27</td>\n",
       "    </tr>\n",
       "    <tr>\n",
       "      <th>38</th>\n",
       "      <td>2022-06-07T17:15:59-04:00</td>\n",
       "      <td>12,175.23</td>\n",
       "    </tr>\n",
       "    <tr>\n",
       "      <th>39</th>\n",
       "      <td>2022-06-06T17:15:59-04:00</td>\n",
       "      <td>12,061.37</td>\n",
       "    </tr>\n",
       "    <tr>\n",
       "      <th>40</th>\n",
       "      <td>2022-06-03T17:15:59-04:00</td>\n",
       "      <td>12,012.73</td>\n",
       "    </tr>\n",
       "    <tr>\n",
       "      <th>41</th>\n",
       "      <td>2022-06-02T17:15:59-04:00</td>\n",
       "      <td>12,316.90</td>\n",
       "    </tr>\n",
       "    <tr>\n",
       "      <th>42</th>\n",
       "      <td>2022-06-01T17:15:59-04:00</td>\n",
       "      <td>11,994.46</td>\n",
       "    </tr>\n",
       "    <tr>\n",
       "      <th>43</th>\n",
       "      <td>2022-05-31T17:15:59-04:00</td>\n",
       "      <td>12,081.39</td>\n",
       "    </tr>\n",
       "    <tr>\n",
       "      <th>44</th>\n",
       "      <td>2022-05-27T17:15:59-04:00</td>\n",
       "      <td>12,131.13</td>\n",
       "    </tr>\n",
       "    <tr>\n",
       "      <th>45</th>\n",
       "      <td>2022-05-26T17:15:59-04:00</td>\n",
       "      <td>11,740.65</td>\n",
       "    </tr>\n",
       "    <tr>\n",
       "      <th>46</th>\n",
       "      <td>2022-05-25T17:15:59-04:00</td>\n",
       "      <td>11,434.74</td>\n",
       "    </tr>\n",
       "    <tr>\n",
       "      <th>47</th>\n",
       "      <td>2022-05-24T17:15:59-04:00</td>\n",
       "      <td>11,264.45</td>\n",
       "    </tr>\n",
       "    <tr>\n",
       "      <th>48</th>\n",
       "      <td>2022-05-23T17:15:59-04:00</td>\n",
       "      <td>11,535.28</td>\n",
       "    </tr>\n",
       "    <tr>\n",
       "      <th>49</th>\n",
       "      <td>2022-05-20T17:15:59-04:00</td>\n",
       "      <td>11,354.62</td>\n",
       "    </tr>\n",
       "    <tr>\n",
       "      <th>50</th>\n",
       "      <td>2022-05-19T17:15:59-04:00</td>\n",
       "      <td>11,388.50</td>\n",
       "    </tr>\n",
       "    <tr>\n",
       "      <th>51</th>\n",
       "      <td>2022-05-18T17:15:59-04:00</td>\n",
       "      <td>11,418.15</td>\n",
       "    </tr>\n",
       "    <tr>\n",
       "      <th>52</th>\n",
       "      <td>2022-05-17T17:15:59-04:00</td>\n",
       "      <td>11,984.52</td>\n",
       "    </tr>\n",
       "    <tr>\n",
       "      <th>53</th>\n",
       "      <td>2022-05-16T17:15:59-04:00</td>\n",
       "      <td>11,662.79</td>\n",
       "    </tr>\n",
       "    <tr>\n",
       "      <th>54</th>\n",
       "      <td>2022-05-13T17:15:59-04:00</td>\n",
       "      <td>11,805.00</td>\n",
       "    </tr>\n",
       "    <tr>\n",
       "      <th>55</th>\n",
       "      <td>2022-05-12T17:15:59-04:00</td>\n",
       "      <td>11,370.96</td>\n",
       "    </tr>\n",
       "    <tr>\n",
       "      <th>56</th>\n",
       "      <td>2022-05-11T17:15:59-04:00</td>\n",
       "      <td>11,364.24</td>\n",
       "    </tr>\n",
       "    <tr>\n",
       "      <th>57</th>\n",
       "      <td>2022-05-10T17:15:59-04:00</td>\n",
       "      <td>11,737.67</td>\n",
       "    </tr>\n",
       "    <tr>\n",
       "      <th>58</th>\n",
       "      <td>2022-05-09T17:15:59-04:00</td>\n",
       "      <td>11,623.25</td>\n",
       "    </tr>\n",
       "    <tr>\n",
       "      <th>59</th>\n",
       "      <td>2022-05-06T17:15:59-04:00</td>\n",
       "      <td>12,144.66</td>\n",
       "    </tr>\n",
       "  </tbody>\n",
       "</table>\n",
       "</div>"
      ],
      "text/plain": [
       "                localTradedAt closePrice\n",
       "0   2022-08-02T17:15:59-04:00  12,348.76\n",
       "1   2022-08-01T17:15:59-04:00  12,368.98\n",
       "2   2022-07-29T17:15:59-04:00  12,390.69\n",
       "3   2022-07-28T17:15:59-04:00  12,162.59\n",
       "4   2022-07-27T17:15:59-04:00  12,032.42\n",
       "5   2022-07-26T17:15:59-04:00  11,562.58\n",
       "6   2022-07-25T17:15:59-04:00  11,782.67\n",
       "7   2022-07-22T17:15:59-04:00  11,834.11\n",
       "8   2022-07-21T17:15:59-04:00  12,059.61\n",
       "9   2022-07-20T17:15:59-04:00  11,897.65\n",
       "10  2022-07-19T17:15:59-04:00  11,713.15\n",
       "11  2022-07-18T17:15:59-04:00  11,360.05\n",
       "12  2022-07-15T17:15:59-04:00  11,452.42\n",
       "13  2022-07-14T17:15:59-04:00  11,251.19\n",
       "14  2022-07-13T17:15:59-04:00  11,247.58\n",
       "15  2022-07-12T17:15:59-04:00  11,264.73\n",
       "16  2022-07-11T17:15:59-04:00  11,372.60\n",
       "17  2022-07-08T17:15:59-04:00  11,635.31\n",
       "18  2022-07-07T17:15:59-04:00  11,621.35\n",
       "19  2022-07-06T17:15:59-04:00  11,361.85\n",
       "20  2022-07-05T17:15:59-04:00  11,322.24\n",
       "21  2022-07-01T17:15:59-04:00  11,127.85\n",
       "22  2022-06-30T17:15:59-04:00  11,028.74\n",
       "23  2022-06-29T17:15:59-04:00  11,177.89\n",
       "24  2022-06-28T17:15:59-04:00  11,181.54\n",
       "25  2022-06-27T17:28:29-04:00  11,524.55\n",
       "26  2022-06-24T17:15:59-04:00  11,607.62\n",
       "27  2022-06-23T17:15:59-04:00  11,232.19\n",
       "28  2022-06-22T17:15:59-04:00  11,053.08\n",
       "29  2022-06-21T17:15:59-04:00  11,069.30\n",
       "30  2022-06-17T17:15:59-04:00  10,798.35\n",
       "31  2022-06-16T17:15:59-04:00  10,646.10\n",
       "32  2022-06-15T17:15:59-04:00  11,099.16\n",
       "33  2022-06-14T17:15:59-04:00  10,828.35\n",
       "34  2022-06-13T17:15:59-04:00  10,809.23\n",
       "35  2022-06-10T17:15:59-04:00  11,340.02\n",
       "36  2022-06-09T17:15:59-04:00  11,754.23\n",
       "37  2022-06-08T17:15:59-04:00  12,086.27\n",
       "38  2022-06-07T17:15:59-04:00  12,175.23\n",
       "39  2022-06-06T17:15:59-04:00  12,061.37\n",
       "40  2022-06-03T17:15:59-04:00  12,012.73\n",
       "41  2022-06-02T17:15:59-04:00  12,316.90\n",
       "42  2022-06-01T17:15:59-04:00  11,994.46\n",
       "43  2022-05-31T17:15:59-04:00  12,081.39\n",
       "44  2022-05-27T17:15:59-04:00  12,131.13\n",
       "45  2022-05-26T17:15:59-04:00  11,740.65\n",
       "46  2022-05-25T17:15:59-04:00  11,434.74\n",
       "47  2022-05-24T17:15:59-04:00  11,264.45\n",
       "48  2022-05-23T17:15:59-04:00  11,535.28\n",
       "49  2022-05-20T17:15:59-04:00  11,354.62\n",
       "50  2022-05-19T17:15:59-04:00  11,388.50\n",
       "51  2022-05-18T17:15:59-04:00  11,418.15\n",
       "52  2022-05-17T17:15:59-04:00  11,984.52\n",
       "53  2022-05-16T17:15:59-04:00  11,662.79\n",
       "54  2022-05-13T17:15:59-04:00  11,805.00\n",
       "55  2022-05-12T17:15:59-04:00  11,370.96\n",
       "56  2022-05-11T17:15:59-04:00  11,364.24\n",
       "57  2022-05-10T17:15:59-04:00  11,737.67\n",
       "58  2022-05-09T17:15:59-04:00  11,623.25\n",
       "59  2022-05-06T17:15:59-04:00  12,144.66"
      ]
     },
     "execution_count": 219,
     "metadata": {},
     "output_type": "execute_result"
    }
   ],
   "source": [
    "nas_price(60,1)"
   ]
  },
  {
   "cell_type": "code",
   "execution_count": 220,
   "id": "08a745de",
   "metadata": {},
   "outputs": [],
   "source": [
    "nas=nas_price(60,1)"
   ]
  },
  {
   "cell_type": "code",
   "execution_count": 221,
   "id": "ec642bcc",
   "metadata": {},
   "outputs": [],
   "source": [
    "#이제ㅡ관계가 있니?"
   ]
  },
  {
   "cell_type": "code",
   "execution_count": 222,
   "id": "a2e0c56c",
   "metadata": {},
   "outputs": [
    {
     "data": {
      "text/html": [
       "<div>\n",
       "<style scoped>\n",
       "    .dataframe tbody tr th:only-of-type {\n",
       "        vertical-align: middle;\n",
       "    }\n",
       "\n",
       "    .dataframe tbody tr th {\n",
       "        vertical-align: top;\n",
       "    }\n",
       "\n",
       "    .dataframe thead th {\n",
       "        text-align: right;\n",
       "    }\n",
       "</style>\n",
       "<table border=\"1\" class=\"dataframe\">\n",
       "  <thead>\n",
       "    <tr style=\"text-align: right;\">\n",
       "      <th></th>\n",
       "      <th>localTradedAt</th>\n",
       "      <th>kospi</th>\n",
       "      <th>kosdaq</th>\n",
       "      <th>nas</th>\n",
       "    </tr>\n",
       "  </thead>\n",
       "  <tbody>\n",
       "    <tr>\n",
       "      <th>0</th>\n",
       "      <td>2022-08-03</td>\n",
       "      <td>2,461.45</td>\n",
       "      <td>815.36</td>\n",
       "      <td>12,348.76</td>\n",
       "    </tr>\n",
       "    <tr>\n",
       "      <th>1</th>\n",
       "      <td>2022-08-02</td>\n",
       "      <td>2,439.62</td>\n",
       "      <td>804.34</td>\n",
       "      <td>12,368.98</td>\n",
       "    </tr>\n",
       "    <tr>\n",
       "      <th>2</th>\n",
       "      <td>2022-08-01</td>\n",
       "      <td>2,452.25</td>\n",
       "      <td>807.61</td>\n",
       "      <td>12,390.69</td>\n",
       "    </tr>\n",
       "    <tr>\n",
       "      <th>3</th>\n",
       "      <td>2022-07-29</td>\n",
       "      <td>2,451.50</td>\n",
       "      <td>803.62</td>\n",
       "      <td>12,162.59</td>\n",
       "    </tr>\n",
       "    <tr>\n",
       "      <th>4</th>\n",
       "      <td>2022-07-28</td>\n",
       "      <td>2,435.27</td>\n",
       "      <td>798.32</td>\n",
       "      <td>12,032.42</td>\n",
       "    </tr>\n",
       "  </tbody>\n",
       "</table>\n",
       "</div>"
      ],
      "text/plain": [
       "  localTradedAt     kospi  kosdaq        nas\n",
       "0    2022-08-03  2,461.45  815.36  12,348.76\n",
       "1    2022-08-02  2,439.62  804.34  12,368.98\n",
       "2    2022-08-01  2,452.25  807.61  12,390.69\n",
       "3    2022-07-29  2,451.50  803.62  12,162.59\n",
       "4    2022-07-28  2,435.27  798.32  12,032.42"
      ]
     },
     "execution_count": 222,
     "metadata": {},
     "output_type": "execute_result"
    }
   ],
   "source": [
    "df=kospi.copy()#값을 복사\n",
    "df[\"kosdaq\"]=kodaq[\"closePrice\"]\n",
    "df[\"nas\"]=nas[\"closePrice\"]\n",
    "df=df.rename(columns={\"closePrice\":\"kospi\"})\n",
    "df.head()"
   ]
  },
  {
   "cell_type": "code",
   "execution_count": 223,
   "id": "4b802f8b",
   "metadata": {},
   "outputs": [
    {
     "data": {
      "text/plain": [
       "localTradedAt    object\n",
       "kospi            object\n",
       "kosdaq           object\n",
       "nas              object\n",
       "dtype: object"
      ]
     },
     "execution_count": 223,
     "metadata": {},
     "output_type": "execute_result"
    }
   ],
   "source": [
    "df.dtypes"
   ]
  },
  {
   "cell_type": "code",
   "execution_count": 224,
   "id": "f5462f7f",
   "metadata": {},
   "outputs": [],
   "source": [
    "df[\"kospi\"]=df[\"kospi\"].apply(lambda data:float(data.replace(\",\",\"\")))\n",
    "df[\"kosdaq\"]=df[\"kosdaq\"].apply(lambda data:float(data.replace(\",\",\"\")))\n",
    "df[\"nas\"]=df[\"nas\"].apply(lambda data:float(data.replace(\",\",\"\")))"
   ]
  },
  {
   "cell_type": "code",
   "execution_count": 225,
   "id": "54539053",
   "metadata": {},
   "outputs": [
    {
     "data": {
      "text/plain": [
       "localTradedAt     object\n",
       "kospi            float64\n",
       "kosdaq           float64\n",
       "nas              float64\n",
       "dtype: object"
      ]
     },
     "execution_count": 225,
     "metadata": {},
     "output_type": "execute_result"
    }
   ],
   "source": [
    "df.dtypes"
   ]
  },
  {
   "cell_type": "code",
   "execution_count": 226,
   "id": "e918f6f0",
   "metadata": {},
   "outputs": [
    {
     "data": {
      "text/html": [
       "<div>\n",
       "<style scoped>\n",
       "    .dataframe tbody tr th:only-of-type {\n",
       "        vertical-align: middle;\n",
       "    }\n",
       "\n",
       "    .dataframe tbody tr th {\n",
       "        vertical-align: top;\n",
       "    }\n",
       "\n",
       "    .dataframe thead th {\n",
       "        text-align: right;\n",
       "    }\n",
       "</style>\n",
       "<table border=\"1\" class=\"dataframe\">\n",
       "  <thead>\n",
       "    <tr style=\"text-align: right;\">\n",
       "      <th></th>\n",
       "      <th>kospi</th>\n",
       "      <th>kosdaq</th>\n",
       "      <th>nas</th>\n",
       "    </tr>\n",
       "  </thead>\n",
       "  <tbody>\n",
       "    <tr>\n",
       "      <th>kospi</th>\n",
       "      <td>1.000000</td>\n",
       "      <td>0.984076</td>\n",
       "      <td>0.444004</td>\n",
       "    </tr>\n",
       "    <tr>\n",
       "      <th>kosdaq</th>\n",
       "      <td>0.984076</td>\n",
       "      <td>1.000000</td>\n",
       "      <td>0.503450</td>\n",
       "    </tr>\n",
       "    <tr>\n",
       "      <th>nas</th>\n",
       "      <td>0.444004</td>\n",
       "      <td>0.503450</td>\n",
       "      <td>1.000000</td>\n",
       "    </tr>\n",
       "  </tbody>\n",
       "</table>\n",
       "</div>"
      ],
      "text/plain": [
       "           kospi    kosdaq       nas\n",
       "kospi   1.000000  0.984076  0.444004\n",
       "kosdaq  0.984076  1.000000  0.503450\n",
       "nas     0.444004  0.503450  1.000000"
      ]
     },
     "execution_count": 226,
     "metadata": {},
     "output_type": "execute_result"
    }
   ],
   "source": [
    "df[['kospi','kosdaq','nas']].corr()"
   ]
  },
  {
   "cell_type": "code",
   "execution_count": 227,
   "id": "8f5e1912",
   "metadata": {},
   "outputs": [],
   "source": [
    "#lambda 변수가 : 이렇게 바뀜(함수)(함수)"
   ]
  },
  {
   "cell_type": "code",
   "execution_count": 228,
   "id": "68e8eadb",
   "metadata": {},
   "outputs": [
    {
     "name": "stdout",
     "output_type": "stream",
     "text": [
      "      name  age       state  point\n",
      "0    Alice   24          NY     64\n",
      "1      Bob   42  California     24\n",
      "2  Charlie   18  California     70\n",
      "3     Dave   68          TX     70\n",
      "4    Ellen   24  California     88\n",
      "5    Frank   30          NY     57\n"
     ]
    }
   ],
   "source": [
    "df_lam = pd.DataFrame({'name': ['Alice','Bob','Charlie','Dave','Ellen','Frank'],\n",
    "                   'age': [24,42,18,68,24,30],\n",
    "                   'state': ['NY','CA','CA','TX','CA','NY'],\n",
    "                   'point': [64,24,70,70,88,57]}\n",
    "                  )\n",
    "print(df_lam.replace('CA', 'California'))\n",
    "#CA가 캘리포나아오바뀜\n",
    "#아마도?"
   ]
  },
  {
   "cell_type": "code",
   "execution_count": 229,
   "id": "58de8419",
   "metadata": {},
   "outputs": [],
   "source": [
    "import os"
   ]
  },
  {
   "cell_type": "code",
   "execution_count": 230,
   "id": "7494bac0",
   "metadata": {},
   "outputs": [],
   "source": [
    "import sys"
   ]
  },
  {
   "cell_type": "code",
   "execution_count": 231,
   "id": "b00e5e00",
   "metadata": {},
   "outputs": [],
   "source": [
    "import urllib.request"
   ]
  },
  {
   "cell_type": "code",
   "execution_count": 232,
   "id": "e8f6e604",
   "metadata": {},
   "outputs": [],
   "source": [
    "import json"
   ]
  },
  {
   "cell_type": "code",
   "execution_count": 246,
   "id": "bbf3c741",
   "metadata": {},
   "outputs": [],
   "source": [
    "#CLIENT_ID_naver, CLIENT_SECRET_naver=비밀\"\",\"\""
   ]
  },
  {
   "cell_type": "code",
   "execution_count": 234,
   "id": "3d8d8933",
   "metadata": {},
   "outputs": [],
   "source": [
    "txt_naver=\"가스는 여행\"\n",
    "url_naver_api=\"https://openapi.naver.com/v1/papago/n2mt\"\n",
    "params_naver={\"source\":\"ko\",\"target\":\"en\",\"text\":txt_naver}\n",
    "headers_naver={\"Content-Type\":\"application/json\",\n",
    "               \"X-Naver-Client-Id\":CLIENT_ID_naver,\n",
    "               \"X-Naver-Client-Secret\":CLIENT_SECRET_naver}"
   ]
  },
  {
   "cell_type": "code",
   "execution_count": 235,
   "id": "415848ee",
   "metadata": {},
   "outputs": [
    {
     "data": {
      "text/plain": [
       "'{\"source\": \"ko\", \"target\": \"en\", \"text\": \"\\\\uac00\\\\uc2a4\\\\ub294 \\\\uc5ec\\\\ud589\"}'"
      ]
     },
     "execution_count": 235,
     "metadata": {},
     "output_type": "execute_result"
    }
   ],
   "source": [
    "json.dumps(params_naver)#인코딩 "
   ]
  },
  {
   "cell_type": "code",
   "execution_count": 236,
   "id": "773ffb9e",
   "metadata": {},
   "outputs": [
    {
     "data": {
      "text/plain": [
       "{'source': 'ko', 'target': 'en', 'text': '가스는 여행'}"
      ]
     },
     "execution_count": 236,
     "metadata": {},
     "output_type": "execute_result"
    }
   ],
   "source": [
    "params_naver"
   ]
  },
  {
   "cell_type": "code",
   "execution_count": 237,
   "id": "1da77e9c",
   "metadata": {},
   "outputs": [
    {
     "data": {
      "text/plain": [
       "<Response [200]>"
      ]
     },
     "execution_count": 237,
     "metadata": {},
     "output_type": "execute_result"
    }
   ],
   "source": [
    "response_naver=requests.post(url_naver_api,json.dumps(params_naver),headers=headers_naver)\n",
    "response_naver"
   ]
  },
  {
   "cell_type": "code",
   "execution_count": 238,
   "id": "924bfd59",
   "metadata": {},
   "outputs": [
    {
     "data": {
      "text/plain": [
       "'{\"message\":{\"result\":{\"srcLangType\":\"ko\",\"tarLangType\":\"en\",\"translatedText\":\"Gas is a travel\",\"engineType\":\"N2MT\",\"pivot\":null,\"dict\":null,\"tarDict\":null},\"@type\":\"response\",\"@service\":\"naverservice.nmt.proxy\",\"@version\":\"1.0.0\"}}'"
      ]
     },
     "execution_count": 238,
     "metadata": {},
     "output_type": "execute_result"
    }
   ],
   "source": [
    "response_naver.text"
   ]
  },
  {
   "cell_type": "code",
   "execution_count": 239,
   "id": "3b7c70d9",
   "metadata": {},
   "outputs": [],
   "source": [
    "txt_naver_trans=response_naver.json()"
   ]
  },
  {
   "cell_type": "code",
   "execution_count": 240,
   "id": "4e242f68",
   "metadata": {},
   "outputs": [
    {
     "data": {
      "text/plain": [
       "{'message': {'result': {'srcLangType': 'ko',\n",
       "   'tarLangType': 'en',\n",
       "   'translatedText': 'Gas is a travel',\n",
       "   'engineType': 'N2MT',\n",
       "   'pivot': None,\n",
       "   'dict': None,\n",
       "   'tarDict': None},\n",
       "  '@type': 'response',\n",
       "  '@service': 'naverservice.nmt.proxy',\n",
       "  '@version': '1.0.0'}}"
      ]
     },
     "execution_count": 240,
     "metadata": {},
     "output_type": "execute_result"
    }
   ],
   "source": [
    "txt_naver_trans"
   ]
  },
  {
   "cell_type": "code",
   "execution_count": 241,
   "id": "33e5eeb9",
   "metadata": {},
   "outputs": [
    {
     "data": {
      "text/plain": [
       "'Gas is a travel'"
      ]
     },
     "execution_count": 241,
     "metadata": {},
     "output_type": "execute_result"
    }
   ],
   "source": [
    "txt_naver_trans[\"message\"][\"result\"][\"translatedText\"]"
   ]
  },
  {
   "cell_type": "code",
   "execution_count": 242,
   "id": "cfb416f1",
   "metadata": {},
   "outputs": [],
   "source": [
    "def trans_naver(txt_naver):\n",
    "    CLIENT_ID_naver, CLIENT_SECRET_naver=\"VFQKX5ecx41zxU50aGze\",\"M7b3vlg1ll\"\n",
    "    \n",
    "    url_naver_api=\"https://openapi.naver.com/v1/papago/n2mt\"\n",
    "    params_naver={\"source\":\"ko\",\"target\":\"en\",\"text\":txt_naver}\n",
    "    headers_naver={\"Content-Type\":\"application/json\",\n",
    "                   \"X-Naver-Client-Id\":CLIENT_ID_naver,\n",
    "                   \"X-Naver-Client-Secret\":CLIENT_SECRET_naver}\n",
    "    response_naver=requests.post(url_naver_api,json.dumps(params_naver),headers=headers_naver)\n",
    "    txt_naver_trans=response_naver.json()\n",
    "    return txt_naver_trans[\"message\"][\"result\"][\"translatedText\"]"
   ]
  },
  {
   "cell_type": "code",
   "execution_count": 174,
   "id": "65488a6e",
   "metadata": {},
   "outputs": [
    {
     "data": {
      "text/plain": [
       "'Gas is a travel'"
      ]
     },
     "execution_count": 174,
     "metadata": {},
     "output_type": "execute_result"
    }
   ],
   "source": [
    "trans_naver(txt_naver)"
   ]
  },
  {
   "cell_type": "code",
   "execution_count": 192,
   "id": "d7da6cdb",
   "metadata": {},
   "outputs": [],
   "source": [
    "url_daum=\"Request URL: https://finance.daum.net/api/exchanges/FRX.KRWUSD/days?perPage=10&page=3&pagination=true\"\n",
    "#Request URL: https://finance.daum.net/api/exchanges/FRX.KRWUSD/days?symbolCode=FRX.KRWUSD&terms=days&page=2&perPage=10\n",
    "\n"
   ]
  },
  {
   "cell_type": "code",
   "execution_count": 195,
   "id": "e56f6908",
   "metadata": {},
   "outputs": [],
   "source": [
    "headers_daum = {\n",
    "    \"user-agent\": \"user-agent: Mozilla/5.0 (Macintosh; Intel Mac OS X 10_15_7) AppleWebKit/537.36 (KHTML, like Gecko) Chrome/103.0.0.0 Safari/537.36\",\n",
    "    \"referer\": \"https://finance.daum.net/exchanges\",\n",
    "}"
   ]
  },
  {
   "cell_type": "code",
   "execution_count": 243,
   "id": "1dfe6622",
   "metadata": {},
   "outputs": [
    {
     "data": {
      "text/plain": [
       "<Response [200]>"
      ]
     },
     "execution_count": 243,
     "metadata": {},
     "output_type": "execute_result"
    }
   ],
   "source": [
    "response_daum = requests.get(url_daum, headers=headers_daum)\n",
    "response_daum"
   ]
  },
  {
   "cell_type": "code",
   "execution_count": 244,
   "id": "ff10c024",
   "metadata": {},
   "outputs": [
    {
     "data": {
      "text/html": [
       "<div>\n",
       "<style scoped>\n",
       "    .dataframe tbody tr th:only-of-type {\n",
       "        vertical-align: middle;\n",
       "    }\n",
       "\n",
       "    .dataframe tbody tr th {\n",
       "        vertical-align: top;\n",
       "    }\n",
       "\n",
       "    .dataframe thead th {\n",
       "        text-align: right;\n",
       "    }\n",
       "</style>\n",
       "<table border=\"1\" class=\"dataframe\">\n",
       "  <thead>\n",
       "    <tr style=\"text-align: right;\">\n",
       "      <th></th>\n",
       "      <th>symbolCode</th>\n",
       "      <th>date</th>\n",
       "      <th>currencyCode</th>\n",
       "      <th>currencyName</th>\n",
       "      <th>currencyUnit</th>\n",
       "      <th>country</th>\n",
       "      <th>region</th>\n",
       "      <th>name</th>\n",
       "      <th>recurrenceCount</th>\n",
       "      <th>basePrice</th>\n",
       "      <th>...</th>\n",
       "      <th>changeRate</th>\n",
       "      <th>cashBuyingPrice</th>\n",
       "      <th>cashSellingPrice</th>\n",
       "      <th>ttBuyingPrice</th>\n",
       "      <th>ttSellingPrice</th>\n",
       "      <th>tcBuyingPrice</th>\n",
       "      <th>fcSellingPrice</th>\n",
       "      <th>exchangeCommission</th>\n",
       "      <th>usDollarRate</th>\n",
       "      <th>chartImageUrl</th>\n",
       "    </tr>\n",
       "  </thead>\n",
       "  <tbody>\n",
       "    <tr>\n",
       "      <th>0</th>\n",
       "      <td>FRX.KRWJPY</td>\n",
       "      <td>2022-07-21 23:19:42</td>\n",
       "      <td>JPY</td>\n",
       "      <td>엔</td>\n",
       "      <td>100</td>\n",
       "      <td>일본</td>\n",
       "      <td>{'korName': '아시아', 'engName': 'Asia'}</td>\n",
       "      <td>일본 (KRW/JPY100)</td>\n",
       "      <td>514</td>\n",
       "      <td>950.87</td>\n",
       "      <td>...</td>\n",
       "      <td>0.001127</td>\n",
       "      <td>967.51</td>\n",
       "      <td>934.23</td>\n",
       "      <td>941.56</td>\n",
       "      <td>960.18</td>\n",
       "      <td>None</td>\n",
       "      <td>None</td>\n",
       "      <td>2.0605</td>\n",
       "      <td>0.7231</td>\n",
       "      <td>{'day': 'https://t1.daumcdn.net/finance/chart/...</td>\n",
       "    </tr>\n",
       "  </tbody>\n",
       "</table>\n",
       "<p>1 rows × 22 columns</p>\n",
       "</div>"
      ],
      "text/plain": [
       "   symbolCode                 date currencyCode currencyName  currencyUnit  \\\n",
       "0  FRX.KRWJPY  2022-07-21 23:19:42          JPY            엔           100   \n",
       "\n",
       "  country                                 region             name  \\\n",
       "0      일본  {'korName': '아시아', 'engName': 'Asia'}  일본 (KRW/JPY100)   \n",
       "\n",
       "   recurrenceCount  basePrice  ... changeRate  cashBuyingPrice  \\\n",
       "0              514     950.87  ...   0.001127           967.51   \n",
       "\n",
       "   cashSellingPrice  ttBuyingPrice  ttSellingPrice  tcBuyingPrice  \\\n",
       "0            934.23         941.56          960.18           None   \n",
       "\n",
       "   fcSellingPrice exchangeCommission usDollarRate  \\\n",
       "0            None             2.0605       0.7231   \n",
       "\n",
       "                                       chartImageUrl  \n",
       "0  {'day': 'https://t1.daumcdn.net/finance/chart/...  \n",
       "\n",
       "[1 rows x 22 columns]"
      ]
     },
     "execution_count": 244,
     "metadata": {},
     "output_type": "execute_result"
    }
   ],
   "source": [
    "datas_daum = response.json()[\"data\"]\n",
    "df = pd.DataFrame(datas_daum)\n",
    "df.head(1)\n"
   ]
  },
  {
   "cell_type": "code",
   "execution_count": 245,
   "id": "cf571aa4",
   "metadata": {},
   "outputs": [
    {
     "data": {
      "text/html": [
       "<div>\n",
       "<style scoped>\n",
       "    .dataframe tbody tr th:only-of-type {\n",
       "        vertical-align: middle;\n",
       "    }\n",
       "\n",
       "    .dataframe tbody tr th {\n",
       "        vertical-align: top;\n",
       "    }\n",
       "\n",
       "    .dataframe thead th {\n",
       "        text-align: right;\n",
       "    }\n",
       "</style>\n",
       "<table border=\"1\" class=\"dataframe\">\n",
       "  <thead>\n",
       "    <tr style=\"text-align: right;\">\n",
       "      <th></th>\n",
       "      <th>date</th>\n",
       "      <th>currencyCode</th>\n",
       "      <th>currencyName</th>\n",
       "      <th>country</th>\n",
       "      <th>name</th>\n",
       "      <th>basePrice</th>\n",
       "    </tr>\n",
       "  </thead>\n",
       "  <tbody>\n",
       "    <tr>\n",
       "      <th>0</th>\n",
       "      <td>2022-07-21 23:19:42</td>\n",
       "      <td>JPY</td>\n",
       "      <td>엔</td>\n",
       "      <td>일본</td>\n",
       "      <td>일본 (KRW/JPY100)</td>\n",
       "      <td>950.87</td>\n",
       "    </tr>\n",
       "    <tr>\n",
       "      <th>1</th>\n",
       "      <td>2022-07-20 23:53:07</td>\n",
       "      <td>JPY</td>\n",
       "      <td>엔</td>\n",
       "      <td>일본</td>\n",
       "      <td>일본 (KRW/JPY100)</td>\n",
       "      <td>949.80</td>\n",
       "    </tr>\n",
       "    <tr>\n",
       "      <th>2</th>\n",
       "      <td>2022-07-19 23:36:22</td>\n",
       "      <td>JPY</td>\n",
       "      <td>엔</td>\n",
       "      <td>일본</td>\n",
       "      <td>일본 (KRW/JPY100)</td>\n",
       "      <td>949.27</td>\n",
       "    </tr>\n",
       "    <tr>\n",
       "      <th>3</th>\n",
       "      <td>2022-07-18 23:45:07</td>\n",
       "      <td>JPY</td>\n",
       "      <td>엔</td>\n",
       "      <td>일본</td>\n",
       "      <td>일본 (KRW/JPY100)</td>\n",
       "      <td>952.74</td>\n",
       "    </tr>\n",
       "    <tr>\n",
       "      <th>4</th>\n",
       "      <td>2022-07-15 21:49:48</td>\n",
       "      <td>JPY</td>\n",
       "      <td>엔</td>\n",
       "      <td>일본</td>\n",
       "      <td>일본 (KRW/JPY100)</td>\n",
       "      <td>955.06</td>\n",
       "    </tr>\n",
       "  </tbody>\n",
       "</table>\n",
       "</div>"
      ],
      "text/plain": [
       "                  date currencyCode currencyName country             name  \\\n",
       "0  2022-07-21 23:19:42          JPY            엔      일본  일본 (KRW/JPY100)   \n",
       "1  2022-07-20 23:53:07          JPY            엔      일본  일본 (KRW/JPY100)   \n",
       "2  2022-07-19 23:36:22          JPY            엔      일본  일본 (KRW/JPY100)   \n",
       "3  2022-07-18 23:45:07          JPY            엔      일본  일본 (KRW/JPY100)   \n",
       "4  2022-07-15 21:49:48          JPY            엔      일본  일본 (KRW/JPY100)   \n",
       "\n",
       "   basePrice  \n",
       "0     950.87  \n",
       "1     949.80  \n",
       "2     949.27  \n",
       "3     952.74  \n",
       "4     955.06  "
      ]
     },
     "execution_count": 245,
     "metadata": {},
     "output_type": "execute_result"
    }
   ],
   "source": [
    "columns = [\"date\", \"currencyCode\", \"currencyName\", \"country\", \"name\", \"basePrice\"]\n",
    "df[columns].head()"
   ]
  },
  {
   "cell_type": "code",
   "execution_count": null,
   "id": "111b2e7a",
   "metadata": {},
   "outputs": [],
   "source": []
  },
  {
   "cell_type": "code",
   "execution_count": null,
   "id": "cd6eabff",
   "metadata": {},
   "outputs": [],
   "source": []
  },
  {
   "cell_type": "code",
   "execution_count": null,
   "id": "1d4964da",
   "metadata": {},
   "outputs": [],
   "source": []
  },
  {
   "cell_type": "code",
   "execution_count": null,
   "id": "6230d149",
   "metadata": {},
   "outputs": [],
   "source": []
  },
  {
   "cell_type": "code",
   "execution_count": null,
   "id": "e8e66833",
   "metadata": {},
   "outputs": [],
   "source": []
  },
  {
   "cell_type": "code",
   "execution_count": null,
   "id": "582002f1",
   "metadata": {},
   "outputs": [],
   "source": []
  },
  {
   "cell_type": "code",
   "execution_count": null,
   "id": "c469b2be",
   "metadata": {},
   "outputs": [],
   "source": []
  },
  {
   "cell_type": "code",
   "execution_count": null,
   "id": "36095f29",
   "metadata": {},
   "outputs": [],
   "source": []
  },
  {
   "cell_type": "code",
   "execution_count": null,
   "id": "de89ef88",
   "metadata": {},
   "outputs": [],
   "source": []
  },
  {
   "cell_type": "code",
   "execution_count": null,
   "id": "5b2fea60",
   "metadata": {},
   "outputs": [],
   "source": []
  },
  {
   "cell_type": "code",
   "execution_count": null,
   "id": "a1ed8a38",
   "metadata": {},
   "outputs": [],
   "source": []
  },
  {
   "cell_type": "code",
   "execution_count": null,
   "id": "88158e0c",
   "metadata": {},
   "outputs": [],
   "source": []
  },
  {
   "cell_type": "code",
   "execution_count": null,
   "id": "23d2b046",
   "metadata": {},
   "outputs": [],
   "source": []
  },
  {
   "cell_type": "code",
   "execution_count": null,
   "id": "a4e0c3c3",
   "metadata": {},
   "outputs": [],
   "source": []
  },
  {
   "cell_type": "code",
   "execution_count": null,
   "id": "53cacf00",
   "metadata": {},
   "outputs": [],
   "source": []
  },
  {
   "cell_type": "code",
   "execution_count": null,
   "id": "84f19926",
   "metadata": {},
   "outputs": [],
   "source": []
  },
  {
   "cell_type": "code",
   "execution_count": null,
   "id": "dd80e698",
   "metadata": {},
   "outputs": [],
   "source": []
  },
  {
   "cell_type": "code",
   "execution_count": null,
   "id": "eb98865f",
   "metadata": {},
   "outputs": [],
   "source": []
  },
  {
   "cell_type": "code",
   "execution_count": null,
   "id": "079c930f",
   "metadata": {},
   "outputs": [],
   "source": []
  },
  {
   "cell_type": "code",
   "execution_count": null,
   "id": "1a6f9767",
   "metadata": {},
   "outputs": [],
   "source": []
  },
  {
   "cell_type": "code",
   "execution_count": null,
   "id": "c29e7c1a",
   "metadata": {},
   "outputs": [],
   "source": []
  },
  {
   "cell_type": "code",
   "execution_count": null,
   "id": "33ebab4a",
   "metadata": {},
   "outputs": [],
   "source": []
  },
  {
   "cell_type": "code",
   "execution_count": null,
   "id": "709583a1",
   "metadata": {},
   "outputs": [],
   "source": []
  },
  {
   "cell_type": "code",
   "execution_count": null,
   "id": "39228ea0",
   "metadata": {},
   "outputs": [],
   "source": []
  },
  {
   "cell_type": "code",
   "execution_count": null,
   "id": "5169b92d",
   "metadata": {},
   "outputs": [],
   "source": []
  },
  {
   "cell_type": "code",
   "execution_count": null,
   "id": "a075155a",
   "metadata": {},
   "outputs": [],
   "source": []
  },
  {
   "cell_type": "code",
   "execution_count": null,
   "id": "8092490e",
   "metadata": {},
   "outputs": [],
   "source": []
  },
  {
   "cell_type": "code",
   "execution_count": null,
   "id": "81c8368d",
   "metadata": {},
   "outputs": [],
   "source": []
  },
  {
   "cell_type": "code",
   "execution_count": null,
   "id": "28f8f9fe",
   "metadata": {},
   "outputs": [],
   "source": []
  }
 ],
 "metadata": {
  "kernelspec": {
   "display_name": "Python 3",
   "language": "python",
   "name": "python3"
  },
  "language_info": {
   "codemirror_mode": {
    "name": "ipython",
    "version": 3
   },
   "file_extension": ".py",
   "mimetype": "text/x-python",
   "name": "python",
   "nbconvert_exporter": "python",
   "pygments_lexer": "ipython3",
   "version": "3.8.8"
  }
 },
 "nbformat": 4,
 "nbformat_minor": 5
}
